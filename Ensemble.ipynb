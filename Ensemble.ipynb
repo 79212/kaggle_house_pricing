{
 "cells": [
  {
   "cell_type": "code",
   "execution_count": 1,
   "metadata": {},
   "outputs": [],
   "source": [
    "import pandas as pd\n",
    "import numpy as np\n",
    "from scipy import stats\n",
    "from sklearn import metrics\n",
    "from sklearn.model_selection import train_test_split\n",
    "from sklearn.linear_model import LinearRegression\n",
    "from sklearn.preprocessing import StandardScaler\n",
    "import seaborn as sns\n",
    "from misc_functions import *\n",
    "import matplotlib.pyplot as plt\n",
    "from sklearn.preprocessing import PolynomialFeatures\n",
    "import xgboost as xgb\n",
    "from sklearn.linear_model import Ridge\n",
    "from sklearn.linear_model import Lasso\n",
    "from sklearn.linear_model import ElasticNet\n",
    "from sklearn.linear_model import BayesianRidge\n",
    "from sklearn.ensemble import RandomForestRegressor\n",
    "from sklearn.linear_model import LassoLarsIC\n",
    "from sklearn.ensemble import GradientBoostingRegressor\n",
    "sns.set_palette('deep')\n",
    "\n",
    "df = pd.read_csv('dataset/train.csv')\n",
    "df = df[df['GrLivArea'] < 4000]\n",
    "y_train = df['SalePrice'].values\n",
    "df_test = pd.read_csv('dataset/test.csv')\n",
    "test_split = 0"
   ]
  },
  {
   "cell_type": "code",
   "execution_count": 2,
   "metadata": {},
   "outputs": [],
   "source": [
    "df_cum = pd.read_csv('df_cumulative.csv')"
   ]
  },
  {
   "cell_type": "code",
   "execution_count": 3,
   "metadata": {},
   "outputs": [
    {
     "data": {
      "text/plain": [
       "((1456, 324), (1459, 324))"
      ]
     },
     "execution_count": 3,
     "metadata": {},
     "output_type": "execute_result"
    }
   ],
   "source": [
    "X_cum = df_cum.to_numpy()\n",
    "standardScalerX = StandardScaler()\n",
    "X_cum = standardScalerX.fit_transform(X_cum)\n",
    "\n",
    "X_train = X_cum[:1456, :]\n",
    "X_test = X_cum[1456:, :]\n",
    "X_train.shape, X_test.shape"
   ]
  },
  {
   "cell_type": "markdown",
   "metadata": {},
   "source": [
    "##### Feature importance and getting rid of unnecessary ones"
   ]
  },
  {
   "cell_type": "code",
   "execution_count": 4,
   "metadata": {},
   "outputs": [
    {
     "data": {
      "text/plain": [
       "XGBRegressor(base_score=0.5, booster=None, colsample_bylevel=1,\n",
       "             colsample_bynode=1, colsample_bytree=0.4, gamma=0, gpu_id=-1,\n",
       "             importance_type='gain', interaction_constraints=None,\n",
       "             learning_rate=0.07, max_delta_step=0, max_depth=3,\n",
       "             min_child_weight=1.5, missing=nan, monotone_constraints=None,\n",
       "             n_estimators=400, n_jobs=-1, nthread=-1, num_parallel_tree=1,\n",
       "             objective='reg:linear', random_state=42, reg_alpha=0.75,\n",
       "             reg_lambda=0.45, scale_pos_weight=1, seed=42, silent=True,\n",
       "             subsample=0.6, tree_method=None, validate_parameters=False,\n",
       "             verbosity=None)"
      ]
     },
     "execution_count": 4,
     "metadata": {},
     "output_type": "execute_result"
    }
   ],
   "source": [
    "xg_reg = xgb.XGBRegressor(base_score=0.5, colsample_bylevel=1, colsample_bytree=0.4,\n",
    "       gamma=0, learning_rate=0.07, max_delta_step=0, max_depth=3,\n",
    "       min_child_weight=1.5, missing=None, n_estimators=400, nthread=-1,\n",
    "       objective='reg:linear', reg_alpha=0.75, reg_lambda=0.45,\n",
    "       scale_pos_weight=1, seed=42, silent=True, subsample=0.6)\n",
    "xg_reg.fit(X_train,np.log(y_train))"
   ]
  },
  {
   "cell_type": "code",
   "execution_count": 5,
   "metadata": {},
   "outputs": [],
   "source": [
    "x_ax = np.arange(len(xg_reg.feature_importances_))\n",
    "# plt.figure(figsize=(90, 30))\n",
    "# sns.barplot(x=x_ax, y=xg_reg.feature_importances_)"
   ]
  },
  {
   "cell_type": "code",
   "execution_count": 6,
   "metadata": {},
   "outputs": [],
   "source": [
    "cols = []\n",
    "for i,j in enumerate(xg_reg.feature_importances_):\n",
    "    if j==0:\n",
    "        cols.append(i)"
   ]
  },
  {
   "cell_type": "code",
   "execution_count": 7,
   "metadata": {},
   "outputs": [],
   "source": [
    "X_cum_n = np.delete(X_cum, cols, 1)"
   ]
  },
  {
   "cell_type": "code",
   "execution_count": 8,
   "metadata": {},
   "outputs": [],
   "source": [
    "X_train = X_cum_n[:1456, :]\n",
    "X_test = X_cum_n[1456:, :]"
   ]
  },
  {
   "cell_type": "code",
   "execution_count": 9,
   "metadata": {},
   "outputs": [],
   "source": [
    "if test_split:\n",
    "    X_train, X_test, y_train, y_test = train_test_split(X_train, y_train, test_size=0.2, random_state=0)"
   ]
  },
  {
   "cell_type": "code",
   "execution_count": 10,
   "metadata": {
    "scrolled": false
   },
   "outputs": [],
   "source": [
    "                 ###################### Parameter sweeping ##########################\n",
    "# val_list = []\n",
    "# score_list = []\n",
    "# for x in np.arange(100,200,10):\n",
    "#     model = GradientBoostingRegressor(learning_rate=0.09, n_estimators=x)\n",
    "#     model.fit(X_train,np.log(y_train))\n",
    "#     y_pred = np.exp(model.predict(X_test))\n",
    "#     score_list.append(np.sqrt(metrics.mean_squared_error(np.log(y_test), np.log(y_pred))))\n",
    "#     val_list.append(x)\n",
    "    \n",
    "# sns.lineplot(x=val_list, y=score_list, markers=True)\n",
    "    "
   ]
  },
  {
   "cell_type": "code",
   "execution_count": 11,
   "metadata": {},
   "outputs": [],
   "source": [
    "all_pred = np.array([])\n",
    "n = 8"
   ]
  },
  {
   "cell_type": "code",
   "execution_count": 12,
   "metadata": {},
   "outputs": [],
   "source": [
    "                             #### Gradient Boosting Regressor (0.1134)####\n",
    "gbregressor = GradientBoostingRegressor(learning_rate=0.1, n_estimators=180)\n",
    "gbregressor.fit(X_train, np.log(y_train))\n",
    "y_pred = np.exp(gbregressor.predict(X_test))\n",
    "all_pred = np.concatenate((all_pred, 0*y_pred))"
   ]
  },
  {
   "cell_type": "code",
   "execution_count": 13,
   "metadata": {},
   "outputs": [],
   "source": [
    "                             #### Lasso LarsIC (0.119)####\n",
    "lassolars = LassoLarsIC(criterion='aic')\n",
    "lassolars.fit(X_train, np.log(y_train))\n",
    "y_pred = np.exp(lassolars.predict(X_test))\n",
    "all_pred = np.vstack((all_pred, 0*y_pred))"
   ]
  },
  {
   "cell_type": "code",
   "execution_count": 14,
   "metadata": {},
   "outputs": [],
   "source": [
    "                             #### Random Forest (0.12401)####\n",
    "rf_regressor = RandomForestRegressor(n_estimators = 325, random_state = 0)\n",
    "rf_regressor.fit(X_train, np.log(y_train))\n",
    "y_pred = np.exp(rf_regressor.predict(X_test))\n",
    "all_pred = np.vstack((all_pred, 0*y_pred))"
   ]
  },
  {
   "cell_type": "code",
   "execution_count": 15,
   "metadata": {},
   "outputs": [],
   "source": [
    "                             #### Bayesian Ridge (0.1054)####\n",
    "bayesianridge = BayesianRidge(alpha_1=130, alpha_2=0.0017, lambda_1=0.00001, lambda_2=0.000001)\n",
    "bayesianridge.fit(X_train, np.log(y_train))\n",
    "y_pred = np.exp(bayesianridge.predict(X_test))\n",
    "all_pred = np.vstack((all_pred, 0.17*y_pred))"
   ]
  },
  {
   "cell_type": "code",
   "execution_count": 16,
   "metadata": {},
   "outputs": [],
   "source": [
    "                             #### ElasticNET (0.10032)####\n",
    "elasticnet = ElasticNet(alpha=0.011, l1_ratio=0.5)\n",
    "elasticnet.fit(X_train, np.log(y_train))\n",
    "y_pred = np.exp(elasticnet.predict(X_test))\n",
    "all_pred = np.vstack((all_pred, 0.21*y_pred))"
   ]
  },
  {
   "cell_type": "code",
   "execution_count": 17,
   "metadata": {},
   "outputs": [],
   "source": [
    "                             #### Lasso (0.10026)####\n",
    "lasso = Lasso(alpha=0.005)\n",
    "lasso.fit(X_train, np.log(y_train))\n",
    "y_pred = np.exp(lasso.predict(X_test))\n",
    "all_pred = np.vstack((all_pred, 0.29*y_pred))"
   ]
  },
  {
   "cell_type": "code",
   "execution_count": 18,
   "metadata": {},
   "outputs": [],
   "source": [
    "                             #### Ridge Regressor (0.1054)####\n",
    "ridge = Ridge(alpha=75)\n",
    "ridge.fit(X_train, np.log(y_train))\n",
    "y_pred = np.exp(ridge.predict(X_test))\n",
    "all_pred = np.vstack((all_pred, 0.14*y_pred))"
   ]
  },
  {
   "cell_type": "code",
   "execution_count": 19,
   "metadata": {},
   "outputs": [],
   "source": [
    "                             #### XGBoost Regressor (0.10624)#####\n",
    "xg_reg = xgb.XGBRegressor(base_score=0.5, colsample_bylevel=1, colsample_bytree=0.4,\n",
    "       gamma=0, learning_rate=0.07, max_delta_step=0, max_depth=3,\n",
    "       min_child_weight=1.5, missing=None, n_estimators=400, nthread=-1,\n",
    "       objective='reg:linear', reg_alpha=0.75, reg_lambda=0.45,\n",
    "       scale_pos_weight=1, seed=42, silent=True, subsample=0.6)\n",
    "xg_reg.fit(X_train,np.log(y_train))\n",
    "y_pred = np.exp(xg_reg.predict(X_test))\n",
    "all_pred = np.vstack((all_pred, 0.19*y_pred))"
   ]
  },
  {
   "cell_type": "code",
   "execution_count": 20,
   "metadata": {},
   "outputs": [],
   "source": [
    "y_pred = np.sum(all_pred, axis=0)"
   ]
  },
  {
   "cell_type": "code",
   "execution_count": 21,
   "metadata": {},
   "outputs": [],
   "source": [
    "# df_pred = pd.DataFrame({'Actual': y_test.flatten(), 'Predicted': y_pred.flatten()})\n",
    "# df_pred"
   ]
  },
  {
   "cell_type": "code",
   "execution_count": 22,
   "metadata": {},
   "outputs": [],
   "source": [
    "if test_split:\n",
    "    print('Root Mean Squared Error:', np.sqrt(metrics.mean_squared_error(np.log(y_test), np.log(y_pred))))"
   ]
  },
  {
   "cell_type": "code",
   "execution_count": 23,
   "metadata": {},
   "outputs": [],
   "source": [
    "if not test_split:\n",
    "    id_array_test = df_test['Id'].values\n",
    "    final_result = np.concatenate([id_array_test.reshape(-1,1), y_pred.reshape(-1,1)], axis=1)\n",
    "\n",
    "    index_array = np.array([x for x in range(1459)])\n",
    "    submission_df = pd.DataFrame(data=final_result, index=index_array, columns=['Id', 'SalePrice'])\n",
    "    convert_dict = {'Id': int}\n",
    "\n",
    "    submission_df = submission_df.astype(convert_dict)\n",
    "\n",
    "    submission_df.to_csv('submission_get_dummies.csv',index=False)"
   ]
  }
 ],
 "metadata": {
  "kernelspec": {
   "display_name": "Python 3",
   "language": "python",
   "name": "python3"
  },
  "language_info": {
   "codemirror_mode": {
    "name": "ipython",
    "version": 3
   },
   "file_extension": ".py",
   "mimetype": "text/x-python",
   "name": "python",
   "nbconvert_exporter": "python",
   "pygments_lexer": "ipython3",
   "version": "3.8.2"
  }
 },
 "nbformat": 4,
 "nbformat_minor": 4
}
