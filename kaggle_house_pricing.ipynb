{
 "cells": [
  {
   "cell_type": "code",
   "execution_count": 106,
   "metadata": {},
   "outputs": [],
   "source": [
    "import pandas as pd\n",
    "import numpy as np\n",
    "\n",
    "def processInput( Train, Is_Test ):\n",
    "    Train.drop(\"Id\", axis=1)\n",
    "    Train.fillna(0, inplace = True ) #remove nulls\n",
    "\n",
    "    #Encoding\n",
    "    Train[\"MSSubClass\"] = Train[\"MSSubClass\"].astype(object)\n",
    "    OneHotColumns = list( Train.select_dtypes(include = 'object').columns )\n",
    "    OneHotDF = Train[OneHotColumns]\n",
    "    OneHotDF = pd.get_dummies(OneHotDF)\n",
    "\n",
    "    Train = Train.drop(OneHotColumns,axis=1)\n",
    "    Train = Train.join(OneHotDF)\n",
    "    \n",
    "    if Is_Test == False :\n",
    "        TrainTarget = Train['SalePrice']\n",
    "        Train = Train.drop('SalePrice',axis=1)\n",
    "        return Train, TrainTarget\n",
    "    else :\n",
    "        return Train\n",
    "# \n",
    "# IntegerMapColumns = list([ \"ExterQual\", \"ExterCond\", \"KitchenQual\" ])\n",
    "# IntegerMApColumnsWithZero = list([\"BsmtQual\", \"BsmtCond\",\n",
    "#                           \"BsmtExposure\", \n",
    "#                           \"HeatingQC\", \"FireplaceQu\", \"GarageQual\", \n",
    "#                           \"GarageCond\", \"PoolQC\" ])\n",
    "# IntegerCustomMap = [\"BsmtFinType1\", \"BsmtFinType2\", \"CentralAir\", ]\n",
    "# \n",
    "#print Train[\"PoolQC\"].unique()\n",
    "#MSZoning = pd.get_dummies( Train[\"MSZoning\"] )"
   ]
  },
  {
   "cell_type": "code",
   "execution_count": 107,
   "metadata": {},
   "outputs": [],
   "source": [
    "Train = pd.read_csv( \"/Users/shaan/Downloads/DataSet/train.csv\" )\n",
    "Train, TrainTarget = processInput( Train, False )"
   ]
  },
  {
   "cell_type": "code",
   "execution_count": 108,
   "metadata": {},
   "outputs": [],
   "source": [
    "from sklearn.linear_model import LinearRegression\n",
    "reg = LinearRegression().fit(Train, TrainTarget)"
   ]
  },
  {
   "cell_type": "code",
   "execution_count": 109,
   "metadata": {},
   "outputs": [
    {
     "name": "stdout",
     "output_type": "stream",
     "text": [
      "0.9336299163155821\n"
     ]
    }
   ],
   "source": [
    "print reg.score(Train,TrainTarget)\n",
    "\n"
   ]
  },
  {
   "cell_type": "code",
   "execution_count": 119,
   "metadata": {
    "scrolled": false
   },
   "outputs": [
    {
     "name": "stdout",
     "output_type": "stream",
     "text": [
      "['PoolQC_Fa', 'Exterior2nd_Other', 'Utilities_NoSeWa', 'HouseStyle_2.5Fin', 'Electrical_0', 'Heating_Floor', 'Exterior1st_Stone', 'RoofMatl_ClyTile', 'Heating_OthW', 'MiscFeature_TenC', 'Condition2_RRAe', 'RoofMatl_Roll', 'Condition2_RRNn', 'RoofMatl_Membran', 'Condition2_RRAn', 'RoofMatl_Metal', 'Electrical_Mix', 'Exterior1st_ImStucc', 'GarageQual_Ex']\n",
      "['Utilities_0', 'KitchenQual_0', 'MSSubClass_150', 'Functional_0', 'SaleType_0', 'Exterior1st_0', 'Exterior2nd_0', 'MSZoning_0']\n",
      "19 8\n"
     ]
    }
   ],
   "source": [
    "Test = pd.read_csv( \"/Users/shaan/Downloads/DataSet/test.csv\" )\n",
    "Test = processInput( Test, True );\n",
    "\n",
    "TrainColumns = Train.columns\n",
    "TestColumns = Test.columns\n",
    "DiffAB = set(TrainColumns) - set(TestColumns)\n",
    "DiffAB = list(DiffAB)\n",
    "print DiffAB\n",
    "\n",
    "DiffBA = set(TestColumns) - set(TrainColumns)\n",
    "DiffBA = list(DiffBA)\n",
    "print DiffBA\n",
    "print len(DiffAB),len(DiffBA)\n",
    "\n",
    "#Test = processInput( Test, True )"
   ]
  },
  {
   "cell_type": "code",
   "execution_count": 115,
   "metadata": {},
   "outputs": [
    {
     "data": {
      "text/plain": [
       "319"
      ]
     },
     "execution_count": 115,
     "metadata": {},
     "output_type": "execute_result"
    }
   ],
   "source": [
    "Test.columns.size\n",
    "Train.columns.size"
   ]
  },
  {
   "cell_type": "code",
   "execution_count": 116,
   "metadata": {},
   "outputs": [
    {
     "data": {
      "text/plain": [
       "308"
      ]
     },
     "execution_count": 116,
     "metadata": {},
     "output_type": "execute_result"
    }
   ],
   "source": [
    "Test.columns.size"
   ]
  },
  {
   "cell_type": "code",
   "execution_count": 87,
   "metadata": {},
   "outputs": [
    {
     "data": {
      "text/plain": [
       "319"
      ]
     },
     "execution_count": 87,
     "metadata": {},
     "output_type": "execute_result"
    }
   ],
   "source": [
    "Train.columns.size"
   ]
  },
  {
   "cell_type": "code",
   "execution_count": null,
   "metadata": {},
   "outputs": [],
   "source": []
  }
 ],
 "metadata": {
  "kernelspec": {
   "display_name": "Python 2",
   "language": "python",
   "name": "python2"
  },
  "language_info": {
   "codemirror_mode": {
    "name": "ipython",
    "version": 2
   },
   "file_extension": ".py",
   "mimetype": "text/x-python",
   "name": "python",
   "nbconvert_exporter": "python",
   "pygments_lexer": "ipython2",
   "version": "2.7.15"
  }
 },
 "nbformat": 4,
 "nbformat_minor": 2
}
